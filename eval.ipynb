{
 "cells": [
  {
   "cell_type": "code",
   "execution_count": 5,
   "metadata": {},
   "outputs": [
    {
     "data": {
      "text/plain": [
       "0    10.99\n",
       "1    10.53\n",
       "2     8.48\n",
       "3    10.16\n",
       "4    10.63\n",
       "5     9.21\n",
       "6    10.55\n",
       "7    10.22\n",
       "8     9.23\n",
       "dtype: float64"
      ]
     },
     "execution_count": 5,
     "metadata": {},
     "output_type": "execute_result"
    }
   ],
   "source": [
    "# 主观评分\n",
    "import pandas as pd\n",
    "\n",
    "\n",
    "M = [\n",
    "[8, 9, 8, 8, 8, 8, 6, 9, 6],\n",
    "[7, 7, 7, 7, 8, 7, 8, 8, 8],\n",
    "[6, 6, 6, 5, 6, 5, 7, 6, 7],\n",
    "[6, 8, 6, 6, 6, 5, 8, 8, 5],\n",
    "[6, 6, 8, 6, 5, 8, 8, 7, 7],\n",
    "[5, 5, 6, 6, 4, 6, 6, 7, 8],\n",
    "[7, 6, 9, 7, 6, 9, 5, 8, 8],\n",
    "[8, 8, 7, 8, 8, 7, 5, 6, 6],\n",
    "[7, 7, 3, 6, 7, 5, 6, 8, 8]]\n",
    "\n",
    "tmp = [[0 for _ in range(9)] for __ in range(9)]\n",
    "\n",
    "for i in range(3):\n",
    "    for j in range(9):\n",
    "        sum = M[i * 3][j] + M[i * 3 + 1][j] + M[i * 3 + 2][j]\n",
    "        for k in range(3):\n",
    "            tmp[i * 3 + k][j] = M[i * 3 + k][j] / sum\n",
    "\n",
    "ans = [[0 for _ in range(3)] for __ in range(9)]\n",
    "\n",
    "for i in range(9):\n",
    "    for j in range(3):\n",
    "        ans[i][j] = tmp[i][j * 3] + tmp[i][j * 3 + 1] + tmp[i][j * 3 + 2]\n",
    "\n",
    "ans = pd.DataFrame(ans)\n",
    "ans *= 10\n",
    "ans = ans.round(2)\n",
    "\n",
    "done = ans.mean(axis=1).round(2)\n",
    "done"
   ]
  }
 ],
 "metadata": {
  "kernelspec": {
   "display_name": "th20",
   "language": "python",
   "name": "python3"
  },
  "language_info": {
   "codemirror_mode": {
    "name": "ipython",
    "version": 3
   },
   "file_extension": ".py",
   "mimetype": "text/x-python",
   "name": "python",
   "nbconvert_exporter": "python",
   "pygments_lexer": "ipython3",
   "version": "3.10.12"
  }
 },
 "nbformat": 4,
 "nbformat_minor": 2
}
